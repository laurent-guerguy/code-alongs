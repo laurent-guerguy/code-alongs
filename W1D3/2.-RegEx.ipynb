{
 "cells": [
  {
   "cell_type": "markdown",
   "metadata": {},
   "source": [
    "# Regular Expressions"
   ]
  },
  {
   "cell_type": "code",
   "execution_count": 1,
   "metadata": {},
   "outputs": [],
   "source": [
    "# Libraries\n",
    "import re"
   ]
  },
  {
   "cell_type": "markdown",
   "metadata": {},
   "source": [
    "## Example 1"
   ]
  },
  {
   "cell_type": "code",
   "execution_count": 2,
   "metadata": {},
   "outputs": [],
   "source": [
    "text = \"That person wears marvelous trousers.\""
   ]
  },
  {
   "cell_type": "code",
   "execution_count": 3,
   "metadata": {},
   "outputs": [
    {
     "data": {
      "text/plain": [
       "['a', 'a', 'a']"
      ]
     },
     "execution_count": 3,
     "metadata": {},
     "output_type": "execute_result"
    }
   ],
   "source": [
    "# Find all the \"a\" in the text\n",
    "pattern = \"a\"\n",
    "re.findall(pattern, text)"
   ]
  },
  {
   "cell_type": "code",
   "execution_count": 4,
   "metadata": {},
   "outputs": [
    {
     "data": {
      "text/plain": [
       "['er', 'er']"
      ]
     },
     "execution_count": 4,
     "metadata": {},
     "output_type": "execute_result"
    }
   ],
   "source": [
    "# Find all the \"er\" in the text\n",
    "pattern = \"er\"\n",
    "re.findall(pattern, text)"
   ]
  },
  {
   "cell_type": "code",
   "execution_count": 5,
   "metadata": {},
   "outputs": [
    {
     "data": {
      "text/plain": [
       "['e', 'r', 'e', 'r', 'r', 'e', 'r', 'e', 'r']"
      ]
     },
     "execution_count": 5,
     "metadata": {},
     "output_type": "execute_result"
    }
   ],
   "source": [
    "# Find all the \"e\" and \"r\" in the text\n",
    "pattern = \"e|r\"\n",
    "re.findall(pattern, text)"
   ]
  },
  {
   "cell_type": "markdown",
   "metadata": {},
   "source": [
    "## Example 2"
   ]
  },
  {
   "cell_type": "code",
   "execution_count": 6,
   "metadata": {},
   "outputs": [],
   "source": [
    "text = \"\"\"My boss asked me to turn in my TPS reports. \n",
    "I told him they were done, but they are not.\"\"\""
   ]
  },
  {
   "cell_type": "code",
   "execution_count": 7,
   "metadata": {},
   "outputs": [
    {
     "data": {
      "text/plain": [
       "'My boss asked me to turn in my TPS reports. \\nI told him they were done, but they are not.'"
      ]
     },
     "execution_count": 7,
     "metadata": {},
     "output_type": "execute_result"
    }
   ],
   "source": [
    "text"
   ]
  },
  {
   "cell_type": "code",
   "execution_count": 8,
   "metadata": {},
   "outputs": [
    {
     "name": "stdout",
     "output_type": "stream",
     "text": [
      "['M', 'y', ' ', 'b', 'o', 's', 's', ' ', 'a', 's', 'k', 'e', 'd', ' ', 'm', 'e', ' ', 't', 'o', ' ', 't', 'u', 'r', 'n', ' ', 'i', 'n', ' ', 'm', 'y', ' ', 'T', 'P', 'S', ' ', 'r', 'e', 'p', 'o', 'r', 't', 's', '.', ' ', 'I', ' ', 't', 'o', 'l', 'd', ' ', 'h', 'i', 'm', ' ', 't', 'h', 'e', 'y', ' ', 'w', 'e', 'r', 'e', ' ', 'd', 'o', 'n', 'e', ',', ' ', 'b', 'u', 't', ' ', 't', 'h', 'e', 'y', ' ', 'a', 'r', 'e', ' ', 'n', 'o', 't', '.']\n"
     ]
    }
   ],
   "source": [
    "# Find all the symbols except the newline\n",
    "pattern = \".\"\n",
    "result = re.findall(pattern, text)\n",
    "print(result)"
   ]
  },
  {
   "cell_type": "code",
   "execution_count": 9,
   "metadata": {},
   "outputs": [
    {
     "name": "stdout",
     "output_type": "stream",
     "text": [
      "['M', 'y', ' ', 'o', 's', 's', ' ', 's', ' ', ' ', 't', 'o', ' ', 't', 'u', 'r', 'n', ' ', 'n', ' ', 'y', ' ', 'T', 'P', 'S', ' ', 'r', 'p', 'o', 'r', 't', 's', '.', ' ', '\\n', 'I', ' ', 't', 'o', ' ', ' ', 't', 'y', ' ', 'w', 'r', ' ', 'o', 'n', ',', ' ', 'u', 't', ' ', 't', 'y', ' ', 'r', ' ', 'n', 'o', 't', '.']\n"
     ]
    }
   ],
   "source": [
    "# Find all symbols except symbols from \"a\" to \"m\"\n",
    "pattern = \"[^a-m]\"\n",
    "result = re.findall(pattern, text)\n",
    "print(result)"
   ]
  },
  {
   "cell_type": "code",
   "execution_count": 10,
   "metadata": {},
   "outputs": [
    {
     "name": "stdout",
     "output_type": "stream",
     "text": [
      "['b', 'a', 'k', 'e', 'd', 'm', 'e', 'i', 'm', 'e', 'l', 'd', 'h', 'i', 'm', 'h', 'e', 'e', 'e', 'd', 'e', 'b', 'h', 'e', 'a', 'e']\n"
     ]
    }
   ],
   "source": [
    "# Find all symbols from \"a\" to \"m\"\n",
    "pattern = \"[a-m]\"\n",
    "result = re.findall(pattern, text)\n",
    "print(result)"
   ]
  },
  {
   "cell_type": "code",
   "execution_count": 11,
   "metadata": {},
   "outputs": [
    {
     "name": "stdout",
     "output_type": "stream",
     "text": [
      "['M', 'b', 'a', 'k', 'e', 'd', 'm', 'e', 'i', 'm', 'e', 'I', 'l', 'd', 'h', 'i', 'm', 'h', 'e', 'e', 'e', 'd', 'e', 'b', 'h', 'e', 'a', 'e']\n"
     ]
    }
   ],
   "source": [
    "# Find all symbols from \"a\" to \"m\" and \"A\" to \"M\"\n",
    "pattern = \"[a-mA-M]\"\n",
    "result = re.findall(pattern, text)\n",
    "print(result)"
   ]
  },
  {
   "cell_type": "markdown",
   "metadata": {},
   "source": [
    "## Example 3"
   ]
  },
  {
   "cell_type": "code",
   "execution_count": 12,
   "metadata": {},
   "outputs": [],
   "source": [
    "text = \"Is the correct spelling color or colour?\""
   ]
  },
  {
   "cell_type": "code",
   "execution_count": 13,
   "metadata": {},
   "outputs": [
    {
     "name": "stdout",
     "output_type": "stream",
     "text": [
      "['color', 'colour']\n"
     ]
    }
   ],
   "source": [
    "# Find the words color and colour\n",
    "pattern = \"colou?r\"\n",
    "result = re.findall(pattern, text)\n",
    "print(result)"
   ]
  },
  {
   "cell_type": "markdown",
   "metadata": {},
   "source": [
    "## Example 4"
   ]
  },
  {
   "cell_type": "code",
   "execution_count": 14,
   "metadata": {},
   "outputs": [],
   "source": [
    "text = \"Let's see how we can match the following: aw, aww, awww, awwww, awwwww\""
   ]
  },
  {
   "cell_type": "code",
   "execution_count": 15,
   "metadata": {},
   "outputs": [
    {
     "name": "stdout",
     "output_type": "stream",
     "text": [
      "['aw', 'aww', 'awww', 'awwww', 'awwwww']\n"
     ]
    }
   ],
   "source": [
    "# Find \"aw\", \"aww\", \"awww\", \"awwww\" and \"awwwww\"\n",
    "# Method 1\n",
    "pattern = \"aww?w?w?w?\"\n",
    "result = re.findall(pattern, text)\n",
    "print(result)"
   ]
  },
  {
   "cell_type": "code",
   "execution_count": 16,
   "metadata": {},
   "outputs": [
    {
     "name": "stdout",
     "output_type": "stream",
     "text": [
      "['aw', 'aww', 'awww', 'awwww', 'awwwww']\n"
     ]
    }
   ],
   "source": [
    "# Find \"aw\", \"aww\", \"awww\", \"awwww\" and \"awwwww\"\n",
    "# Method 2\n",
    "pattern = \"aww*\"\n",
    "result = re.findall(pattern, text)\n",
    "print(result)"
   ]
  },
  {
   "cell_type": "code",
   "execution_count": 17,
   "metadata": {},
   "outputs": [
    {
     "name": "stdout",
     "output_type": "stream",
     "text": [
      "['aw', 'aww', 'awww', 'awwww', 'awwwww']\n"
     ]
    }
   ],
   "source": [
    "# Find \"aw\", \"aww\", \"awww\", \"awwww\" and \"awwwww\"\n",
    "# Method 3\n",
    "pattern = \"aw+\"\n",
    "result = re.findall(pattern, text)\n",
    "print(result)"
   ]
  },
  {
   "cell_type": "code",
   "execution_count": 18,
   "metadata": {},
   "outputs": [
    {
     "name": "stdout",
     "output_type": "stream",
     "text": [
      "['aww', 'awww', 'awwww', 'awwwww']\n"
     ]
    }
   ],
   "source": [
    "# Find \"aww\", \"awww\", \"awwww\" and \"awwwww\"\n",
    "pattern = \"aww+\"\n",
    "result = re.findall(pattern, text)\n",
    "print(result)"
   ]
  },
  {
   "cell_type": "code",
   "execution_count": 20,
   "metadata": {},
   "outputs": [],
   "source": [
    "# We add an \"e\" to \"awwwww\"\n",
    "text = \"Let's see how we can match the following: aw, aww, awww, awwww, awwwwwe\""
   ]
  },
  {
   "cell_type": "code",
   "execution_count": 23,
   "metadata": {},
   "outputs": [
    {
     "name": "stdout",
     "output_type": "stream",
     "text": [
      "['aww', 'awww', 'awwww']\n"
     ]
    }
   ],
   "source": [
    "# Find \"aww\", \"awww\" and \"awwww\"\n",
    "pattern = r\"aw{2,4}\\b\"\n",
    "result = re.findall(pattern, text)\n",
    "print(result)"
   ]
  },
  {
   "cell_type": "markdown",
   "metadata": {},
   "source": [
    "## Example 5"
   ]
  },
  {
   "cell_type": "code",
   "execution_count": 24,
   "metadata": {},
   "outputs": [],
   "source": [
    "text = \"\"\"\n",
    "Aeromexico 800-237-6639\n",
    "Air Canada 888-247-2262\n",
    "Air Canada Rouge 888-247-2262\n",
    "Air Creebec 800-567-6567\n",
    "Air Inuit 800-361-2965\n",
    "Air North 800-661-0407\n",
    "Air Tindi 888-545-6794\n",
    "Air Transat 866-847-1112\n",
    "\"\"\""
   ]
  },
  {
   "cell_type": "code",
   "execution_count": 25,
   "metadata": {},
   "outputs": [
    {
     "data": {
      "text/plain": [
       "'\\nAeromexico 800-237-6639\\nAir Canada 888-247-2262\\nAir Canada Rouge 888-247-2262\\nAir Creebec 800-567-6567\\nAir Inuit 800-361-2965\\nAir North 800-661-0407\\nAir Tindi 888-545-6794\\nAir Transat 866-847-1112\\n'"
      ]
     },
     "execution_count": 25,
     "metadata": {},
     "output_type": "execute_result"
    }
   ],
   "source": [
    "text"
   ]
  },
  {
   "cell_type": "code",
   "execution_count": 26,
   "metadata": {},
   "outputs": [
    {
     "name": "stdout",
     "output_type": "stream",
     "text": [
      "['800-237-6639', '888-247-2262', '888-247-2262', '800-567-6567', '800-361-2965', '800-661-0407', '888-545-6794', '866-847-1112']\n"
     ]
    }
   ],
   "source": [
    "# Find the phone numbers\n",
    "# Method 1\n",
    "pattern = r\"\\d{3}-\\d{3}-\\d{4}\"\n",
    "result = re.findall(pattern, text)\n",
    "print(result)"
   ]
  },
  {
   "cell_type": "code",
   "execution_count": 27,
   "metadata": {},
   "outputs": [
    {
     "name": "stdout",
     "output_type": "stream",
     "text": [
      "['800-237-6639', '888-247-2262', '888-247-2262', '800-567-6567', '800-361-2965', '800-661-0407', '888-545-6794', '866-847-1112']\n"
     ]
    }
   ],
   "source": [
    "# Find the phone numbers\n",
    "# Method 2\n",
    "pattern = r\"\\d+-\\d+-\\d+\"\n",
    "result = re.findall(pattern, text)\n",
    "print(result)"
   ]
  },
  {
   "cell_type": "markdown",
   "metadata": {},
   "source": [
    "#### What's the difference between method 1 and method 2?"
   ]
  },
  {
   "cell_type": "code",
   "execution_count": 29,
   "metadata": {},
   "outputs": [],
   "source": [
    "# We add more numbers to the first phone\n",
    "text = \"\"\"\n",
    "Aeromexico 800-237-663965748893\n",
    "Air Canada 888-247-2262\n",
    "Air Canada Rouge 888-247-2262\n",
    "Air Creebec 800-567-6567\n",
    "Air Inuit 800-361-2965\n",
    "Air North 800-661-0407\n",
    "Air Tindi 888-545-6794\n",
    "Air Transat 866-847-1112\n",
    "\"\"\""
   ]
  },
  {
   "cell_type": "code",
   "execution_count": 30,
   "metadata": {},
   "outputs": [
    {
     "name": "stdout",
     "output_type": "stream",
     "text": [
      "['800-237-6639', '888-247-2262', '888-247-2262', '800-567-6567', '800-361-2965', '800-661-0407', '888-545-6794', '866-847-1112']\n"
     ]
    }
   ],
   "source": [
    "# Find the phone numbers\n",
    "# Method 1\n",
    "pattern = r\"\\d{3}-\\d{3}-\\d{4}\"\n",
    "result = re.findall(pattern, text)\n",
    "print(result)"
   ]
  },
  {
   "cell_type": "code",
   "execution_count": 31,
   "metadata": {},
   "outputs": [
    {
     "name": "stdout",
     "output_type": "stream",
     "text": [
      "['800-237-663965748893', '888-247-2262', '888-247-2262', '800-567-6567', '800-361-2965', '800-661-0407', '888-545-6794', '866-847-1112']\n"
     ]
    }
   ],
   "source": [
    "# Find the phone numbers\n",
    "# Method 2\n",
    "pattern = r\"\\d+-\\d+-\\d+\"\n",
    "result = re.findall(pattern, text)\n",
    "print(result)"
   ]
  }
 ],
 "metadata": {
  "kernelspec": {
   "display_name": "Python 3",
   "language": "python",
   "name": "python3"
  },
  "language_info": {
   "codemirror_mode": {
    "name": "ipython",
    "version": 3
   },
   "file_extension": ".py",
   "mimetype": "text/x-python",
   "name": "python",
   "nbconvert_exporter": "python",
   "pygments_lexer": "ipython3",
   "version": "3.7.2"
  }
 },
 "nbformat": 4,
 "nbformat_minor": 2
}

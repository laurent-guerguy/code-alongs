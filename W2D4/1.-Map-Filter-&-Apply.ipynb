{
 "cells": [
  {
   "cell_type": "markdown",
   "metadata": {},
   "source": [
    "# Map, Reduce & Filter"
   ]
  },
  {
   "cell_type": "code",
   "execution_count": 1,
   "metadata": {},
   "outputs": [],
   "source": [
    "# Libraries.\n",
    "import pandas as pd"
   ]
  },
  {
   "cell_type": "markdown",
   "metadata": {},
   "source": [
    "#### Creating a dataframe"
   ]
  },
  {
   "cell_type": "code",
   "execution_count": 2,
   "metadata": {},
   "outputs": [],
   "source": [
    "# Pandas Series of last names.\n",
    "last_names = pd.Series(['Abreu','Chang','De Sanctis','Höhne','Munne','Pardo','Foradada','Basbug','Guerguy','Akesson','Petit','Taskin','Ferri','Rocher'])"
   ]
  },
  {
   "cell_type": "code",
   "execution_count": 3,
   "metadata": {},
   "outputs": [],
   "source": [
    "# Pandas Series of names.\n",
    "names = pd.Series(['Alberto','Chao-Ting','Emanuele','Fabia','Ingrid','Javier','Josep','Kerim','Laurent','Lucas','Miquel','Onur','Pau','Salva'])"
   ]
  },
  {
   "cell_type": "code",
   "execution_count": 4,
   "metadata": {},
   "outputs": [],
   "source": [
    "# Pandas Series of points.\n",
    "points = pd.Series([10,31,54,72,84,22,44,76,48,87,25,66,39,51])"
   ]
  },
  {
   "cell_type": "code",
   "execution_count": 5,
   "metadata": {},
   "outputs": [
    {
     "data": {
      "text/html": [
       "<div>\n",
       "<style scoped>\n",
       "    .dataframe tbody tr th:only-of-type {\n",
       "        vertical-align: middle;\n",
       "    }\n",
       "\n",
       "    .dataframe tbody tr th {\n",
       "        vertical-align: top;\n",
       "    }\n",
       "\n",
       "    .dataframe thead th {\n",
       "        text-align: right;\n",
       "    }\n",
       "</style>\n",
       "<table border=\"1\" class=\"dataframe\">\n",
       "  <thead>\n",
       "    <tr style=\"text-align: right;\">\n",
       "      <th></th>\n",
       "      <th>names</th>\n",
       "      <th>last_names</th>\n",
       "      <th>points</th>\n",
       "    </tr>\n",
       "  </thead>\n",
       "  <tbody>\n",
       "    <tr>\n",
       "      <th>0</th>\n",
       "      <td>Alberto</td>\n",
       "      <td>Abreu</td>\n",
       "      <td>10</td>\n",
       "    </tr>\n",
       "    <tr>\n",
       "      <th>1</th>\n",
       "      <td>Chao-Ting</td>\n",
       "      <td>Chang</td>\n",
       "      <td>31</td>\n",
       "    </tr>\n",
       "    <tr>\n",
       "      <th>2</th>\n",
       "      <td>Emanuele</td>\n",
       "      <td>De Sanctis</td>\n",
       "      <td>54</td>\n",
       "    </tr>\n",
       "    <tr>\n",
       "      <th>3</th>\n",
       "      <td>Fabia</td>\n",
       "      <td>Höhne</td>\n",
       "      <td>72</td>\n",
       "    </tr>\n",
       "    <tr>\n",
       "      <th>4</th>\n",
       "      <td>Ingrid</td>\n",
       "      <td>Munne</td>\n",
       "      <td>84</td>\n",
       "    </tr>\n",
       "    <tr>\n",
       "      <th>5</th>\n",
       "      <td>Javier</td>\n",
       "      <td>Pardo</td>\n",
       "      <td>22</td>\n",
       "    </tr>\n",
       "    <tr>\n",
       "      <th>6</th>\n",
       "      <td>Josep</td>\n",
       "      <td>Foradada</td>\n",
       "      <td>44</td>\n",
       "    </tr>\n",
       "    <tr>\n",
       "      <th>7</th>\n",
       "      <td>Kerim</td>\n",
       "      <td>Basbug</td>\n",
       "      <td>76</td>\n",
       "    </tr>\n",
       "    <tr>\n",
       "      <th>8</th>\n",
       "      <td>Laurent</td>\n",
       "      <td>Guerguy</td>\n",
       "      <td>48</td>\n",
       "    </tr>\n",
       "    <tr>\n",
       "      <th>9</th>\n",
       "      <td>Lucas</td>\n",
       "      <td>Akesson</td>\n",
       "      <td>87</td>\n",
       "    </tr>\n",
       "    <tr>\n",
       "      <th>10</th>\n",
       "      <td>Miquel</td>\n",
       "      <td>Petit</td>\n",
       "      <td>25</td>\n",
       "    </tr>\n",
       "    <tr>\n",
       "      <th>11</th>\n",
       "      <td>Onur</td>\n",
       "      <td>Taskin</td>\n",
       "      <td>66</td>\n",
       "    </tr>\n",
       "    <tr>\n",
       "      <th>12</th>\n",
       "      <td>Pau</td>\n",
       "      <td>Ferri</td>\n",
       "      <td>39</td>\n",
       "    </tr>\n",
       "    <tr>\n",
       "      <th>13</th>\n",
       "      <td>Salva</td>\n",
       "      <td>Rocher</td>\n",
       "      <td>51</td>\n",
       "    </tr>\n",
       "  </tbody>\n",
       "</table>\n",
       "</div>"
      ],
      "text/plain": [
       "        names  last_names  points\n",
       "0     Alberto       Abreu      10\n",
       "1   Chao-Ting       Chang      31\n",
       "2    Emanuele  De Sanctis      54\n",
       "3       Fabia       Höhne      72\n",
       "4      Ingrid       Munne      84\n",
       "5      Javier       Pardo      22\n",
       "6       Josep    Foradada      44\n",
       "7       Kerim      Basbug      76\n",
       "8     Laurent     Guerguy      48\n",
       "9       Lucas     Akesson      87\n",
       "10     Miquel       Petit      25\n",
       "11       Onur      Taskin      66\n",
       "12        Pau       Ferri      39\n",
       "13      Salva      Rocher      51"
      ]
     },
     "execution_count": 5,
     "metadata": {},
     "output_type": "execute_result"
    }
   ],
   "source": [
    "# Create the dataframe.\n",
    "students = pd.DataFrame({'names': names, 'last_names': last_names, 'points': points})\n",
    "students"
   ]
  },
  {
   "cell_type": "markdown",
   "metadata": {},
   "source": [
    "## Map\n",
    "Applies a function to all the items in a list."
   ]
  },
  {
   "cell_type": "code",
   "execution_count": 6,
   "metadata": {},
   "outputs": [],
   "source": [
    "# Define a list.\n",
    "lst = [1,2,3,4]"
   ]
  },
  {
   "cell_type": "code",
   "execution_count": 7,
   "metadata": {},
   "outputs": [],
   "source": [
    "# Define a function that divides a number by 2.\n",
    "def half (x):\n",
    "    return x/2"
   ]
  },
  {
   "cell_type": "code",
   "execution_count": 8,
   "metadata": {},
   "outputs": [],
   "source": [
    "# Define a function to transform all the elements of a list according to the instructions on a given function.\n",
    "def new_calculator(function, iterable):\n",
    "    result = map(function, iterable)\n",
    "    # Variable 'result' is a map object - let's print it to see the result.\n",
    "    print(result)\n",
    "    # We want to return a list, not a map object - then, we transform the map object into a list.\n",
    "    return list(result)"
   ]
  },
  {
   "cell_type": "code",
   "execution_count": 9,
   "metadata": {},
   "outputs": [
    {
     "name": "stdout",
     "output_type": "stream",
     "text": [
      "<map object at 0x11e8b9b38>\n"
     ]
    },
    {
     "data": {
      "text/plain": [
       "[0.5, 1.0, 1.5, 2.0]"
      ]
     },
     "execution_count": 9,
     "metadata": {},
     "output_type": "execute_result"
    }
   ],
   "source": [
    "# When we call the 'new_calculator' function, it prints a map object and returns a list with the transformed elements.\n",
    "new_calculator(half, lst)"
   ]
  },
  {
   "cell_type": "code",
   "execution_count": 10,
   "metadata": {},
   "outputs": [
    {
     "data": {
      "text/plain": [
       "<map at 0x11e8d8208>"
      ]
     },
     "execution_count": 10,
     "metadata": {},
     "output_type": "execute_result"
    }
   ],
   "source": [
    "# We don't need the new_calculator function, we can directly map variable lst.\n",
    "map(half, lst)"
   ]
  },
  {
   "cell_type": "code",
   "execution_count": 11,
   "metadata": {},
   "outputs": [
    {
     "data": {
      "text/plain": [
       "[0.5, 1.0, 1.5, 2.0]"
      ]
     },
     "execution_count": 11,
     "metadata": {},
     "output_type": "execute_result"
    }
   ],
   "source": [
    "# We use function 'list' to transform the map object into a list.\n",
    "list(map(half, lst))"
   ]
  },
  {
   "cell_type": "code",
   "execution_count": 12,
   "metadata": {},
   "outputs": [
    {
     "data": {
      "text/plain": [
       "[0.5, 1.0, 1.5, 2.0]"
      ]
     },
     "execution_count": 12,
     "metadata": {},
     "output_type": "execute_result"
    }
   ],
   "source": [
    "# Instead of defining function 'half', we can just use a lambda function.\n",
    "list(map(lambda x: x/2, lst))"
   ]
  },
  {
   "cell_type": "markdown",
   "metadata": {},
   "source": [
    "## Filter\n",
    "Creates a list of elements for which a function returns True."
   ]
  },
  {
   "cell_type": "code",
   "execution_count": 13,
   "metadata": {},
   "outputs": [],
   "source": [
    "# Define a function that returns True or False.\n",
    "def odds(x):\n",
    "    return x % 2 != 0"
   ]
  },
  {
   "cell_type": "code",
   "execution_count": 14,
   "metadata": {},
   "outputs": [
    {
     "data": {
      "text/plain": [
       "<filter at 0x11e89aac8>"
      ]
     },
     "execution_count": 14,
     "metadata": {},
     "output_type": "execute_result"
    }
   ],
   "source": [
    "# `filter` returns a filter object.\n",
    "filter(odds, lst)"
   ]
  },
  {
   "cell_type": "code",
   "execution_count": 15,
   "metadata": {},
   "outputs": [
    {
     "data": {
      "text/plain": [
       "[1, 3]"
      ]
     },
     "execution_count": 15,
     "metadata": {},
     "output_type": "execute_result"
    }
   ],
   "source": [
    "# If we transform the filter object into a list, we get the elements of the list for which the odds function returns True. \n",
    "list(filter(odds, lst))"
   ]
  },
  {
   "cell_type": "code",
   "execution_count": 16,
   "metadata": {},
   "outputs": [
    {
     "data": {
      "text/plain": [
       "[1, 3]"
      ]
     },
     "execution_count": 16,
     "metadata": {},
     "output_type": "execute_result"
    }
   ],
   "source": [
    "# Same as the cell above but now we are using a lambda function to call function odds. \n",
    "# Not necessary as we are creating a extra lambda function that we can omit. \n",
    "list(filter(lambda x: odds(x), lst))"
   ]
  },
  {
   "cell_type": "code",
   "execution_count": 17,
   "metadata": {},
   "outputs": [
    {
     "name": "stdout",
     "output_type": "stream",
     "text": [
      "Map: [True, False, True, False]\n",
      "Filter: [1, 3]\n"
     ]
    }
   ],
   "source": [
    "# What is the difference between map and filter? \n",
    "print(\"Map:\", list(map(odds, lst)))\n",
    "print(\"Filter:\", list(filter(odds, lst)))\n",
    "\n",
    "# Map returns the output of the function for each element of the list. \n",
    "# Filter returns only the elements of the list where the output of the function is True. "
   ]
  },
  {
   "cell_type": "code",
   "execution_count": 18,
   "metadata": {},
   "outputs": [
    {
     "data": {
      "text/plain": [
       "[1, 3]"
      ]
     },
     "execution_count": 18,
     "metadata": {},
     "output_type": "execute_result"
    }
   ],
   "source": [
    "# We can also use lambda function with filter, instead of defining function odds.\n",
    "list(filter(lambda x: x % 2 != 0, lst))"
   ]
  },
  {
   "cell_type": "markdown",
   "metadata": {},
   "source": [
    "## Apply ~ Map\n",
    "Applies a function along an axis of a dataframe. By default it applies the function to each column. "
   ]
  },
  {
   "cell_type": "code",
   "execution_count": 19,
   "metadata": {},
   "outputs": [
    {
     "data": {
      "text/plain": [
       "0      5.0\n",
       "1     15.5\n",
       "2     27.0\n",
       "3     36.0\n",
       "4     42.0\n",
       "5     11.0\n",
       "6     22.0\n",
       "7     38.0\n",
       "8     24.0\n",
       "9     43.5\n",
       "10    12.5\n",
       "11    33.0\n",
       "12    19.5\n",
       "13    25.5\n",
       "Name: points, dtype: float64"
      ]
     },
     "execution_count": 19,
     "metadata": {},
     "output_type": "execute_result"
    }
   ],
   "source": [
    "# Apply function half to column points of students dataframe. We are not storing the results, just showing them. \n",
    "students['points'].apply(half)"
   ]
  },
  {
   "cell_type": "code",
   "execution_count": 20,
   "metadata": {},
   "outputs": [
    {
     "data": {
      "text/html": [
       "<div>\n",
       "<style scoped>\n",
       "    .dataframe tbody tr th:only-of-type {\n",
       "        vertical-align: middle;\n",
       "    }\n",
       "\n",
       "    .dataframe tbody tr th {\n",
       "        vertical-align: top;\n",
       "    }\n",
       "\n",
       "    .dataframe thead th {\n",
       "        text-align: right;\n",
       "    }\n",
       "</style>\n",
       "<table border=\"1\" class=\"dataframe\">\n",
       "  <thead>\n",
       "    <tr style=\"text-align: right;\">\n",
       "      <th></th>\n",
       "      <th>names</th>\n",
       "      <th>last_names</th>\n",
       "      <th>points</th>\n",
       "    </tr>\n",
       "  </thead>\n",
       "  <tbody>\n",
       "    <tr>\n",
       "      <th>0</th>\n",
       "      <td>Alberto</td>\n",
       "      <td>Abreu</td>\n",
       "      <td>5.0</td>\n",
       "    </tr>\n",
       "    <tr>\n",
       "      <th>1</th>\n",
       "      <td>Chao-Ting</td>\n",
       "      <td>Chang</td>\n",
       "      <td>15.5</td>\n",
       "    </tr>\n",
       "    <tr>\n",
       "      <th>2</th>\n",
       "      <td>Emanuele</td>\n",
       "      <td>De Sanctis</td>\n",
       "      <td>27.0</td>\n",
       "    </tr>\n",
       "    <tr>\n",
       "      <th>3</th>\n",
       "      <td>Fabia</td>\n",
       "      <td>Höhne</td>\n",
       "      <td>36.0</td>\n",
       "    </tr>\n",
       "    <tr>\n",
       "      <th>4</th>\n",
       "      <td>Ingrid</td>\n",
       "      <td>Munne</td>\n",
       "      <td>42.0</td>\n",
       "    </tr>\n",
       "    <tr>\n",
       "      <th>5</th>\n",
       "      <td>Javier</td>\n",
       "      <td>Pardo</td>\n",
       "      <td>11.0</td>\n",
       "    </tr>\n",
       "    <tr>\n",
       "      <th>6</th>\n",
       "      <td>Josep</td>\n",
       "      <td>Foradada</td>\n",
       "      <td>22.0</td>\n",
       "    </tr>\n",
       "    <tr>\n",
       "      <th>7</th>\n",
       "      <td>Kerim</td>\n",
       "      <td>Basbug</td>\n",
       "      <td>38.0</td>\n",
       "    </tr>\n",
       "    <tr>\n",
       "      <th>8</th>\n",
       "      <td>Laurent</td>\n",
       "      <td>Guerguy</td>\n",
       "      <td>24.0</td>\n",
       "    </tr>\n",
       "    <tr>\n",
       "      <th>9</th>\n",
       "      <td>Lucas</td>\n",
       "      <td>Akesson</td>\n",
       "      <td>43.5</td>\n",
       "    </tr>\n",
       "    <tr>\n",
       "      <th>10</th>\n",
       "      <td>Miquel</td>\n",
       "      <td>Petit</td>\n",
       "      <td>12.5</td>\n",
       "    </tr>\n",
       "    <tr>\n",
       "      <th>11</th>\n",
       "      <td>Onur</td>\n",
       "      <td>Taskin</td>\n",
       "      <td>33.0</td>\n",
       "    </tr>\n",
       "    <tr>\n",
       "      <th>12</th>\n",
       "      <td>Pau</td>\n",
       "      <td>Ferri</td>\n",
       "      <td>19.5</td>\n",
       "    </tr>\n",
       "    <tr>\n",
       "      <th>13</th>\n",
       "      <td>Salva</td>\n",
       "      <td>Rocher</td>\n",
       "      <td>25.5</td>\n",
       "    </tr>\n",
       "  </tbody>\n",
       "</table>\n",
       "</div>"
      ],
      "text/plain": [
       "        names  last_names  points\n",
       "0     Alberto       Abreu     5.0\n",
       "1   Chao-Ting       Chang    15.5\n",
       "2    Emanuele  De Sanctis    27.0\n",
       "3       Fabia       Höhne    36.0\n",
       "4      Ingrid       Munne    42.0\n",
       "5      Javier       Pardo    11.0\n",
       "6       Josep    Foradada    22.0\n",
       "7       Kerim      Basbug    38.0\n",
       "8     Laurent     Guerguy    24.0\n",
       "9       Lucas     Akesson    43.5\n",
       "10     Miquel       Petit    12.5\n",
       "11       Onur      Taskin    33.0\n",
       "12        Pau       Ferri    19.5\n",
       "13      Salva      Rocher    25.5"
      ]
     },
     "execution_count": 20,
     "metadata": {},
     "output_type": "execute_result"
    }
   ],
   "source": [
    "# There are two ways to store the results.\n",
    "# Method 1: Overwrite the original column.\n",
    "students['points'] = students['points'].apply(half)\n",
    "students"
   ]
  },
  {
   "cell_type": "code",
   "execution_count": 21,
   "metadata": {},
   "outputs": [],
   "source": [
    "# Method 2: Create a new column and store the results in it.\n",
    "students = pd.DataFrame({'names': names, 'last_names': last_names, 'points': points})\n",
    "students['half-points'] = students['points'].apply(half)"
   ]
  },
  {
   "cell_type": "code",
   "execution_count": 22,
   "metadata": {},
   "outputs": [
    {
     "data": {
      "text/html": [
       "<div>\n",
       "<style scoped>\n",
       "    .dataframe tbody tr th:only-of-type {\n",
       "        vertical-align: middle;\n",
       "    }\n",
       "\n",
       "    .dataframe tbody tr th {\n",
       "        vertical-align: top;\n",
       "    }\n",
       "\n",
       "    .dataframe thead th {\n",
       "        text-align: right;\n",
       "    }\n",
       "</style>\n",
       "<table border=\"1\" class=\"dataframe\">\n",
       "  <thead>\n",
       "    <tr style=\"text-align: right;\">\n",
       "      <th></th>\n",
       "      <th>names</th>\n",
       "      <th>last_names</th>\n",
       "      <th>points</th>\n",
       "      <th>half-points</th>\n",
       "    </tr>\n",
       "  </thead>\n",
       "  <tbody>\n",
       "    <tr>\n",
       "      <th>0</th>\n",
       "      <td>Alberto</td>\n",
       "      <td>Abreu</td>\n",
       "      <td>10</td>\n",
       "      <td>5.0</td>\n",
       "    </tr>\n",
       "    <tr>\n",
       "      <th>1</th>\n",
       "      <td>Chao-Ting</td>\n",
       "      <td>Chang</td>\n",
       "      <td>31</td>\n",
       "      <td>15.5</td>\n",
       "    </tr>\n",
       "    <tr>\n",
       "      <th>2</th>\n",
       "      <td>Emanuele</td>\n",
       "      <td>De Sanctis</td>\n",
       "      <td>54</td>\n",
       "      <td>27.0</td>\n",
       "    </tr>\n",
       "    <tr>\n",
       "      <th>3</th>\n",
       "      <td>Fabia</td>\n",
       "      <td>Höhne</td>\n",
       "      <td>72</td>\n",
       "      <td>36.0</td>\n",
       "    </tr>\n",
       "    <tr>\n",
       "      <th>4</th>\n",
       "      <td>Ingrid</td>\n",
       "      <td>Munne</td>\n",
       "      <td>84</td>\n",
       "      <td>42.0</td>\n",
       "    </tr>\n",
       "    <tr>\n",
       "      <th>5</th>\n",
       "      <td>Javier</td>\n",
       "      <td>Pardo</td>\n",
       "      <td>22</td>\n",
       "      <td>11.0</td>\n",
       "    </tr>\n",
       "    <tr>\n",
       "      <th>6</th>\n",
       "      <td>Josep</td>\n",
       "      <td>Foradada</td>\n",
       "      <td>44</td>\n",
       "      <td>22.0</td>\n",
       "    </tr>\n",
       "    <tr>\n",
       "      <th>7</th>\n",
       "      <td>Kerim</td>\n",
       "      <td>Basbug</td>\n",
       "      <td>76</td>\n",
       "      <td>38.0</td>\n",
       "    </tr>\n",
       "    <tr>\n",
       "      <th>8</th>\n",
       "      <td>Laurent</td>\n",
       "      <td>Guerguy</td>\n",
       "      <td>48</td>\n",
       "      <td>24.0</td>\n",
       "    </tr>\n",
       "    <tr>\n",
       "      <th>9</th>\n",
       "      <td>Lucas</td>\n",
       "      <td>Akesson</td>\n",
       "      <td>87</td>\n",
       "      <td>43.5</td>\n",
       "    </tr>\n",
       "    <tr>\n",
       "      <th>10</th>\n",
       "      <td>Miquel</td>\n",
       "      <td>Petit</td>\n",
       "      <td>25</td>\n",
       "      <td>12.5</td>\n",
       "    </tr>\n",
       "    <tr>\n",
       "      <th>11</th>\n",
       "      <td>Onur</td>\n",
       "      <td>Taskin</td>\n",
       "      <td>66</td>\n",
       "      <td>33.0</td>\n",
       "    </tr>\n",
       "    <tr>\n",
       "      <th>12</th>\n",
       "      <td>Pau</td>\n",
       "      <td>Ferri</td>\n",
       "      <td>39</td>\n",
       "      <td>19.5</td>\n",
       "    </tr>\n",
       "    <tr>\n",
       "      <th>13</th>\n",
       "      <td>Salva</td>\n",
       "      <td>Rocher</td>\n",
       "      <td>51</td>\n",
       "      <td>25.5</td>\n",
       "    </tr>\n",
       "  </tbody>\n",
       "</table>\n",
       "</div>"
      ],
      "text/plain": [
       "        names  last_names  points  half-points\n",
       "0     Alberto       Abreu      10          5.0\n",
       "1   Chao-Ting       Chang      31         15.5\n",
       "2    Emanuele  De Sanctis      54         27.0\n",
       "3       Fabia       Höhne      72         36.0\n",
       "4      Ingrid       Munne      84         42.0\n",
       "5      Javier       Pardo      22         11.0\n",
       "6       Josep    Foradada      44         22.0\n",
       "7       Kerim      Basbug      76         38.0\n",
       "8     Laurent     Guerguy      48         24.0\n",
       "9       Lucas     Akesson      87         43.5\n",
       "10     Miquel       Petit      25         12.5\n",
       "11       Onur      Taskin      66         33.0\n",
       "12        Pau       Ferri      39         19.5\n",
       "13      Salva      Rocher      51         25.5"
      ]
     },
     "execution_count": 22,
     "metadata": {},
     "output_type": "execute_result"
    }
   ],
   "source": [
    "students"
   ]
  },
  {
   "cell_type": "code",
   "execution_count": 23,
   "metadata": {},
   "outputs": [
    {
     "data": {
      "text/html": [
       "<div>\n",
       "<style scoped>\n",
       "    .dataframe tbody tr th:only-of-type {\n",
       "        vertical-align: middle;\n",
       "    }\n",
       "\n",
       "    .dataframe tbody tr th {\n",
       "        vertical-align: top;\n",
       "    }\n",
       "\n",
       "    .dataframe thead th {\n",
       "        text-align: right;\n",
       "    }\n",
       "</style>\n",
       "<table border=\"1\" class=\"dataframe\">\n",
       "  <thead>\n",
       "    <tr style=\"text-align: right;\">\n",
       "      <th></th>\n",
       "      <th>names</th>\n",
       "      <th>last_names</th>\n",
       "      <th>points</th>\n",
       "      <th>half-points</th>\n",
       "      <th>points-minus-one</th>\n",
       "    </tr>\n",
       "  </thead>\n",
       "  <tbody>\n",
       "    <tr>\n",
       "      <th>0</th>\n",
       "      <td>Alberto</td>\n",
       "      <td>Abreu</td>\n",
       "      <td>10</td>\n",
       "      <td>5.0</td>\n",
       "      <td>9</td>\n",
       "    </tr>\n",
       "    <tr>\n",
       "      <th>1</th>\n",
       "      <td>Chao-Ting</td>\n",
       "      <td>Chang</td>\n",
       "      <td>31</td>\n",
       "      <td>15.5</td>\n",
       "      <td>30</td>\n",
       "    </tr>\n",
       "    <tr>\n",
       "      <th>2</th>\n",
       "      <td>Emanuele</td>\n",
       "      <td>De Sanctis</td>\n",
       "      <td>54</td>\n",
       "      <td>27.0</td>\n",
       "      <td>53</td>\n",
       "    </tr>\n",
       "    <tr>\n",
       "      <th>3</th>\n",
       "      <td>Fabia</td>\n",
       "      <td>Höhne</td>\n",
       "      <td>72</td>\n",
       "      <td>36.0</td>\n",
       "      <td>71</td>\n",
       "    </tr>\n",
       "    <tr>\n",
       "      <th>4</th>\n",
       "      <td>Ingrid</td>\n",
       "      <td>Munne</td>\n",
       "      <td>84</td>\n",
       "      <td>42.0</td>\n",
       "      <td>83</td>\n",
       "    </tr>\n",
       "    <tr>\n",
       "      <th>5</th>\n",
       "      <td>Javier</td>\n",
       "      <td>Pardo</td>\n",
       "      <td>22</td>\n",
       "      <td>11.0</td>\n",
       "      <td>21</td>\n",
       "    </tr>\n",
       "    <tr>\n",
       "      <th>6</th>\n",
       "      <td>Josep</td>\n",
       "      <td>Foradada</td>\n",
       "      <td>44</td>\n",
       "      <td>22.0</td>\n",
       "      <td>43</td>\n",
       "    </tr>\n",
       "    <tr>\n",
       "      <th>7</th>\n",
       "      <td>Kerim</td>\n",
       "      <td>Basbug</td>\n",
       "      <td>76</td>\n",
       "      <td>38.0</td>\n",
       "      <td>75</td>\n",
       "    </tr>\n",
       "    <tr>\n",
       "      <th>8</th>\n",
       "      <td>Laurent</td>\n",
       "      <td>Guerguy</td>\n",
       "      <td>48</td>\n",
       "      <td>24.0</td>\n",
       "      <td>47</td>\n",
       "    </tr>\n",
       "    <tr>\n",
       "      <th>9</th>\n",
       "      <td>Lucas</td>\n",
       "      <td>Akesson</td>\n",
       "      <td>87</td>\n",
       "      <td>43.5</td>\n",
       "      <td>86</td>\n",
       "    </tr>\n",
       "    <tr>\n",
       "      <th>10</th>\n",
       "      <td>Miquel</td>\n",
       "      <td>Petit</td>\n",
       "      <td>25</td>\n",
       "      <td>12.5</td>\n",
       "      <td>24</td>\n",
       "    </tr>\n",
       "    <tr>\n",
       "      <th>11</th>\n",
       "      <td>Onur</td>\n",
       "      <td>Taskin</td>\n",
       "      <td>66</td>\n",
       "      <td>33.0</td>\n",
       "      <td>65</td>\n",
       "    </tr>\n",
       "    <tr>\n",
       "      <th>12</th>\n",
       "      <td>Pau</td>\n",
       "      <td>Ferri</td>\n",
       "      <td>39</td>\n",
       "      <td>19.5</td>\n",
       "      <td>38</td>\n",
       "    </tr>\n",
       "    <tr>\n",
       "      <th>13</th>\n",
       "      <td>Salva</td>\n",
       "      <td>Rocher</td>\n",
       "      <td>51</td>\n",
       "      <td>25.5</td>\n",
       "      <td>50</td>\n",
       "    </tr>\n",
       "  </tbody>\n",
       "</table>\n",
       "</div>"
      ],
      "text/plain": [
       "        names  last_names  points  half-points  points-minus-one\n",
       "0     Alberto       Abreu      10          5.0                 9\n",
       "1   Chao-Ting       Chang      31         15.5                30\n",
       "2    Emanuele  De Sanctis      54         27.0                53\n",
       "3       Fabia       Höhne      72         36.0                71\n",
       "4      Ingrid       Munne      84         42.0                83\n",
       "5      Javier       Pardo      22         11.0                21\n",
       "6       Josep    Foradada      44         22.0                43\n",
       "7       Kerim      Basbug      76         38.0                75\n",
       "8     Laurent     Guerguy      48         24.0                47\n",
       "9       Lucas     Akesson      87         43.5                86\n",
       "10     Miquel       Petit      25         12.5                24\n",
       "11       Onur      Taskin      66         33.0                65\n",
       "12        Pau       Ferri      39         19.5                38\n",
       "13      Salva      Rocher      51         25.5                50"
      ]
     },
     "execution_count": 23,
     "metadata": {},
     "output_type": "execute_result"
    }
   ],
   "source": [
    "# What if we want to remove one point from each student? We can use lambda functions too. \n",
    "students['points-minus-one'] = students['points'].apply(lambda x: x - 1)\n",
    "students"
   ]
  },
  {
   "cell_type": "code",
   "execution_count": 24,
   "metadata": {},
   "outputs": [
    {
     "data": {
      "text/html": [
       "<div>\n",
       "<style scoped>\n",
       "    .dataframe tbody tr th:only-of-type {\n",
       "        vertical-align: middle;\n",
       "    }\n",
       "\n",
       "    .dataframe tbody tr th {\n",
       "        vertical-align: top;\n",
       "    }\n",
       "\n",
       "    .dataframe thead th {\n",
       "        text-align: right;\n",
       "    }\n",
       "</style>\n",
       "<table border=\"1\" class=\"dataframe\">\n",
       "  <thead>\n",
       "    <tr style=\"text-align: right;\">\n",
       "      <th></th>\n",
       "      <th>names</th>\n",
       "      <th>last_names</th>\n",
       "      <th>points</th>\n",
       "      <th>half-points</th>\n",
       "      <th>points-minus-one</th>\n",
       "    </tr>\n",
       "  </thead>\n",
       "  <tbody>\n",
       "    <tr>\n",
       "      <th>0</th>\n",
       "      <td>Alberto</td>\n",
       "      <td>Abreu</td>\n",
       "      <td>10</td>\n",
       "      <td>5.0</td>\n",
       "      <td>10</td>\n",
       "    </tr>\n",
       "    <tr>\n",
       "      <th>1</th>\n",
       "      <td>Chao-Ting</td>\n",
       "      <td>Chang</td>\n",
       "      <td>31</td>\n",
       "      <td>15.5</td>\n",
       "      <td>31</td>\n",
       "    </tr>\n",
       "    <tr>\n",
       "      <th>2</th>\n",
       "      <td>Emanuele</td>\n",
       "      <td>De Sanctis</td>\n",
       "      <td>54</td>\n",
       "      <td>27.0</td>\n",
       "      <td>53</td>\n",
       "    </tr>\n",
       "    <tr>\n",
       "      <th>3</th>\n",
       "      <td>Fabia</td>\n",
       "      <td>Höhne</td>\n",
       "      <td>72</td>\n",
       "      <td>36.0</td>\n",
       "      <td>71</td>\n",
       "    </tr>\n",
       "    <tr>\n",
       "      <th>4</th>\n",
       "      <td>Ingrid</td>\n",
       "      <td>Munne</td>\n",
       "      <td>84</td>\n",
       "      <td>42.0</td>\n",
       "      <td>83</td>\n",
       "    </tr>\n",
       "    <tr>\n",
       "      <th>5</th>\n",
       "      <td>Javier</td>\n",
       "      <td>Pardo</td>\n",
       "      <td>22</td>\n",
       "      <td>11.0</td>\n",
       "      <td>22</td>\n",
       "    </tr>\n",
       "    <tr>\n",
       "      <th>6</th>\n",
       "      <td>Josep</td>\n",
       "      <td>Foradada</td>\n",
       "      <td>44</td>\n",
       "      <td>22.0</td>\n",
       "      <td>43</td>\n",
       "    </tr>\n",
       "    <tr>\n",
       "      <th>7</th>\n",
       "      <td>Kerim</td>\n",
       "      <td>Basbug</td>\n",
       "      <td>76</td>\n",
       "      <td>38.0</td>\n",
       "      <td>75</td>\n",
       "    </tr>\n",
       "    <tr>\n",
       "      <th>8</th>\n",
       "      <td>Laurent</td>\n",
       "      <td>Guerguy</td>\n",
       "      <td>48</td>\n",
       "      <td>24.0</td>\n",
       "      <td>47</td>\n",
       "    </tr>\n",
       "    <tr>\n",
       "      <th>9</th>\n",
       "      <td>Lucas</td>\n",
       "      <td>Akesson</td>\n",
       "      <td>87</td>\n",
       "      <td>43.5</td>\n",
       "      <td>86</td>\n",
       "    </tr>\n",
       "    <tr>\n",
       "      <th>10</th>\n",
       "      <td>Miquel</td>\n",
       "      <td>Petit</td>\n",
       "      <td>25</td>\n",
       "      <td>12.5</td>\n",
       "      <td>25</td>\n",
       "    </tr>\n",
       "    <tr>\n",
       "      <th>11</th>\n",
       "      <td>Onur</td>\n",
       "      <td>Taskin</td>\n",
       "      <td>66</td>\n",
       "      <td>33.0</td>\n",
       "      <td>65</td>\n",
       "    </tr>\n",
       "    <tr>\n",
       "      <th>12</th>\n",
       "      <td>Pau</td>\n",
       "      <td>Ferri</td>\n",
       "      <td>39</td>\n",
       "      <td>19.5</td>\n",
       "      <td>39</td>\n",
       "    </tr>\n",
       "    <tr>\n",
       "      <th>13</th>\n",
       "      <td>Salva</td>\n",
       "      <td>Rocher</td>\n",
       "      <td>51</td>\n",
       "      <td>25.5</td>\n",
       "      <td>50</td>\n",
       "    </tr>\n",
       "  </tbody>\n",
       "</table>\n",
       "</div>"
      ],
      "text/plain": [
       "        names  last_names  points  half-points  points-minus-one\n",
       "0     Alberto       Abreu      10          5.0                10\n",
       "1   Chao-Ting       Chang      31         15.5                31\n",
       "2    Emanuele  De Sanctis      54         27.0                53\n",
       "3       Fabia       Höhne      72         36.0                71\n",
       "4      Ingrid       Munne      84         42.0                83\n",
       "5      Javier       Pardo      22         11.0                22\n",
       "6       Josep    Foradada      44         22.0                43\n",
       "7       Kerim      Basbug      76         38.0                75\n",
       "8     Laurent     Guerguy      48         24.0                47\n",
       "9       Lucas     Akesson      87         43.5                86\n",
       "10     Miquel       Petit      25         12.5                25\n",
       "11       Onur      Taskin      66         33.0                65\n",
       "12        Pau       Ferri      39         19.5                39\n",
       "13      Salva      Rocher      51         25.5                50"
      ]
     },
     "execution_count": 24,
     "metadata": {},
     "output_type": "execute_result"
    }
   ],
   "source": [
    "# What if we want to remove one point from each student if he or she has more than 40 points?\n",
    "students['points-minus-one'] = students['points'].apply(lambda x: x - 1 if x > 40 else x)\n",
    "students"
   ]
  }
 ],
 "metadata": {
  "kernelspec": {
   "display_name": "ironhack-3.7",
   "language": "python",
   "name": "ironhack-3.7"
  },
  "language_info": {
   "codemirror_mode": {
    "name": "ipython",
    "version": 3
   },
   "file_extension": ".py",
   "mimetype": "text/x-python",
   "name": "python",
   "nbconvert_exporter": "python",
   "pygments_lexer": "ipython3",
   "version": "3.7.3"
  }
 },
 "nbformat": 4,
 "nbformat_minor": 2
}

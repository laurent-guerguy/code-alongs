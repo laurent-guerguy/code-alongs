{
 "cells": [
  {
   "cell_type": "code",
   "execution_count": 3,
   "metadata": {},
   "outputs": [],
   "source": [
    "import random"
   ]
  },
  {
   "cell_type": "code",
   "execution_count": null,
   "metadata": {},
   "outputs": [],
   "source": [
    "dice_minimum = int(input(\"give me the minimum number \"))\n",
    "dice_maximum = int(input(\"give me the maximum number \"))\n",
    "\n"
   ]
  },
  {
   "cell_type": "code",
   "execution_count": null,
   "metadata": {},
   "outputs": [],
   "source": [
    "rounds = int(input(\"How many rounds do you want to play? \"))"
   ]
  },
  {
   "cell_type": "code",
   "execution_count": null,
   "metadata": {},
   "outputs": [],
   "source": [
    "for i in range(rounds):\n",
    "    dice_minimum = int(input(\"give me the minimum number \"))\n",
    "    dice_maximum = int(input(\"give me the maximum number \"))\n",
    "    dice = random.randint(dice_minimum,dice_maximum)\n",
    "    print(f\"you got a {dice} in the {i+1} round\")\n",
    "    "
   ]
  },
  {
   "cell_type": "code",
   "execution_count": 4,
   "metadata": {},
   "outputs": [],
   "source": [
    "def ask_user():\n",
    "    dice_minimum = int(input(\"give me the minimum number \"))\n",
    "    dice_maximum = int(input(\"give me the maximum number \"))\n",
    "    return (dice_minimum, dice_maximum)"
   ]
  },
  {
   "cell_type": "code",
   "execution_count": null,
   "metadata": {},
   "outputs": [],
   "source": []
  },
  {
   "cell_type": "code",
   "execution_count": 6,
   "metadata": {},
   "outputs": [
    {
     "name": "stdout",
     "output_type": "stream",
     "text": [
      "How many rounds do you want to play? 3\n",
      "give me the minimum number 1\n",
      "give me the maximum number 12\n",
      "you got a 4 in the 1 round\n"
     ]
    },
    {
     "ename": "NameError",
     "evalue": "name 'dice_maximum' is not defined",
     "output_type": "error",
     "traceback": [
      "\u001b[0;31m---------------------------------------------------------------------------\u001b[0m",
      "\u001b[0;31mNameError\u001b[0m                                 Traceback (most recent call last)",
      "\u001b[0;32m<ipython-input-6-0f12bb7398fd>\u001b[0m in \u001b[0;36m<module>\u001b[0;34m\u001b[0m\n\u001b[1;32m      4\u001b[0m     \u001b[0mdice\u001b[0m \u001b[0;34m=\u001b[0m \u001b[0mrandom\u001b[0m\u001b[0;34m.\u001b[0m\u001b[0mrandint\u001b[0m\u001b[0;34m(\u001b[0m\u001b[0mdice_min\u001b[0m\u001b[0;34m,\u001b[0m \u001b[0mdice_max\u001b[0m\u001b[0;34m)\u001b[0m\u001b[0;34m\u001b[0m\u001b[0;34m\u001b[0m\u001b[0m\n\u001b[1;32m      5\u001b[0m     \u001b[0mprint\u001b[0m\u001b[0;34m(\u001b[0m\u001b[0;34mf\"you got a {dice} in the {i+1} round\"\u001b[0m\u001b[0;34m)\u001b[0m\u001b[0;34m\u001b[0m\u001b[0;34m\u001b[0m\u001b[0m\n\u001b[0;32m----> 6\u001b[0;31m     \u001b[0mprint\u001b[0m\u001b[0;34m(\u001b[0m\u001b[0mdice_maximum\u001b[0m\u001b[0;34m)\u001b[0m\u001b[0;34m\u001b[0m\u001b[0;34m\u001b[0m\u001b[0m\n\u001b[0m",
      "\u001b[0;31mNameError\u001b[0m: name 'dice_maximum' is not defined"
     ]
    }
   ],
   "source": [
    "rounds = int(input(\"How many rounds do you want to play? \"))\n",
    "for i in range(rounds):\n",
    "    dice_min, dice_max = ask_user()\n",
    "    dice = random.randint(dice_min, dice_max)\n",
    "    print(f\"you got a {dice} in the {i+1} round\")"
   ]
  },
  {
   "cell_type": "code",
   "execution_count": 7,
   "metadata": {},
   "outputs": [],
   "source": [
    "def roll_one_dice():\n",
    "    dice_min, dice_max = ask_user()\n",
    "    dice = random.randint(dice_min, dice_max)\n",
    "    return f\"you got a {dice}\""
   ]
  },
  {
   "cell_type": "code",
   "execution_count": 8,
   "metadata": {},
   "outputs": [
    {
     "name": "stdout",
     "output_type": "stream",
     "text": [
      "give me the minimum number 1\n",
      "give me the maximum number 6\n",
      "you got a 6\n"
     ]
    }
   ],
   "source": [
    "print(roll_one_dice())"
   ]
  },
  {
   "cell_type": "code",
   "execution_count": 9,
   "metadata": {},
   "outputs": [],
   "source": [
    "def roll_more_dices():\n",
    "    rounds = int(input(\"numer of rounds \"))\n",
    "    for i in range(rounds):\n",
    "        print(roll_one_dice()) \n",
    "        "
   ]
  },
  {
   "cell_type": "code",
   "execution_count": 11,
   "metadata": {},
   "outputs": [
    {
     "name": "stdout",
     "output_type": "stream",
     "text": [
      "numer of rounds 2\n",
      "give me the minimum number 1\n",
      "give me the maximum number 6\n",
      "you got a 6\n",
      "give me the minimum number 3\n",
      "give me the maximum number 20\n",
      "you got a 12\n"
     ]
    }
   ],
   "source": [
    "roll_more_dices()"
   ]
  },
  {
   "cell_type": "code",
   "execution_count": null,
   "metadata": {},
   "outputs": [],
   "source": []
  }
 ],
 "metadata": {
  "kernelspec": {
   "display_name": "Python 3",
   "language": "python",
   "name": "python3"
  },
  "language_info": {
   "codemirror_mode": {
    "name": "ipython",
    "version": 3
   },
   "file_extension": ".py",
   "mimetype": "text/x-python",
   "name": "python",
   "nbconvert_exporter": "python",
   "pygments_lexer": "ipython3",
   "version": "3.7.2"
  }
 },
 "nbformat": 4,
 "nbformat_minor": 2
}

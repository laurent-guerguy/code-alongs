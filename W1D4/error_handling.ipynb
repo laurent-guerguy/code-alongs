{
 "cells": [
  {
   "cell_type": "code",
   "execution_count": 36,
   "metadata": {},
   "outputs": [],
   "source": [
    "import random\n",
    "import sys"
   ]
  },
  {
   "cell_type": "code",
   "execution_count": 54,
   "metadata": {},
   "outputs": [],
   "source": [
    "def ask_user():\n",
    "    dice_minimum = input(\"give me the minimum number \")\n",
    "    dice_maximum = input(\"give me the maximum number \")\n",
    "    if dice_minimum.isnumeric() and dice_maximum.isnumeric():\n",
    "        dice_minimum = int(dice_minimum)\n",
    "        dice_maximum = int(dice_maximum)\n",
    "        \n",
    "    else:\n",
    "        print(\"We need a number\")\n",
    "        sys.exit()\n",
    "    print(type(dice_minimum))\n",
    "    if dice_minimum >= dice_maximum:\n",
    "        print(\"CATASTROFIC USER. The minimum should be lower than the maximum.\")\n",
    "        sys.exit()\n",
    "    \n",
    "    return (dice_minimum, dice_maximum)"
   ]
  },
  {
   "cell_type": "code",
   "execution_count": 55,
   "metadata": {},
   "outputs": [
    {
     "name": "stdout",
     "output_type": "stream",
     "text": [
      "Do you want to throw the same dice? (1/0) 1\n",
      "give me the minimum number hola\n",
      "give me the maximum number hola\n",
      "We need a number\n"
     ]
    },
    {
     "ename": "SystemExit",
     "evalue": "",
     "traceback": [
      "An exception has occurred, use %tb to see the full traceback.\n",
      "\u001b[0;31mSystemExit\u001b[0m\n"
     ],
     "output_type": "error"
    }
   ],
   "source": [
    "JUST_ONE_TYPE = int(input(\"Do you want to throw the same dice? (1/0) \"))\n",
    "if JUST_ONE_TYPE not in [0,1]:\n",
    "    print(\"You should input 0 or 1. Try again\")\n",
    "    sys.exit()\n",
    "if JUST_ONE_TYPE:\n",
    "    DICE_MIN, DICE_MAX = ask_user()\n",
    "roll_more_dices(JUST_ONE_TYPE)"
   ]
  },
  {
   "cell_type": "code",
   "execution_count": 21,
   "metadata": {},
   "outputs": [],
   "source": [
    "def roll_one_dice(dice_min=DICE_MIN, dice_max=DICE_MAX):\n",
    "    if not JUST_ONE_TYPE:\n",
    "        dice_min, dice_max = ask_user()   \n",
    "    dice = random.randint(dice_min, dice_max)\n",
    "    return f\"you got a {dice}\""
   ]
  },
  {
   "cell_type": "code",
   "execution_count": 14,
   "metadata": {},
   "outputs": [],
   "source": [
    "def roll_more_dices(just_one_type):\n",
    "    rounds = int(input(\"numer of rounds \"))\n",
    "    for i in range(rounds):\n",
    "        print(roll_one_dice()) "
   ]
  },
  {
   "cell_type": "code",
   "execution_count": 24,
   "metadata": {},
   "outputs": [
    {
     "data": {
      "text/plain": [
       "False"
      ]
     },
     "execution_count": 24,
     "metadata": {},
     "output_type": "execute_result"
    }
   ],
   "source": [
    "bool(0)"
   ]
  },
  {
   "cell_type": "code",
   "execution_count": null,
   "metadata": {},
   "outputs": [],
   "source": []
  }
 ],
 "metadata": {
  "kernelspec": {
   "display_name": "Python 3",
   "language": "python",
   "name": "python3"
  },
  "language_info": {
   "codemirror_mode": {
    "name": "ipython",
    "version": 3
   },
   "file_extension": ".py",
   "mimetype": "text/x-python",
   "name": "python",
   "nbconvert_exporter": "python",
   "pygments_lexer": "ipython3",
   "version": "3.7.2"
  }
 },
 "nbformat": 4,
 "nbformat_minor": 2
}
